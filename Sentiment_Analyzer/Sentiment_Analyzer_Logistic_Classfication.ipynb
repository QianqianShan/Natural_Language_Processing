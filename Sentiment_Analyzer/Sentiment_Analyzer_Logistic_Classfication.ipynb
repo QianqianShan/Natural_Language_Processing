{
 "cells": [
  {
   "cell_type": "markdown",
   "metadata": {},
   "source": [
    "## Sentiment Analyzer"
   ]
  },
  {
   "cell_type": "code",
   "execution_count": 44,
   "metadata": {},
   "outputs": [],
   "source": [
    "import nltk\n",
    "# https://www.nltk.org/_modules/nltk/stem/wordnet.html\n",
    "from nltk.stem import WordNetLemmatizer\n",
    "\n",
    "import numpy as np \n",
    "from sklearn.utils import shuffle \n",
    "from sklearn.linear_model import LogisticRegression \n",
    "from bs4 import BeautifulSoup\n"
   ]
  },
  {
   "cell_type": "code",
   "execution_count": 45,
   "metadata": {},
   "outputs": [],
   "source": [
    "# turns words into their base forms, e.g. cats --> cat, dogs --> dog \n",
    "wordnet_lemmatizer = WordNetLemmatizer()\n",
    "\n",
    "# stop words from http://www.lextek.com/manuals/onix/stopwords1.html\n",
    "stopwords = set(w.rstrip() for w in open('data/stopwords.txt'))\n",
    "# from nltk.corpus import stopwords\n",
    "# stopwords.words('english')"
   ]
  },
  {
   "cell_type": "code",
   "execution_count": 46,
   "metadata": {},
   "outputs": [],
   "source": [
    "# load review data \n",
    "positive_reviews = BeautifulSoup(open('electronics/positive.review').read())\n",
    "# only look at the review text \n",
    "positive_reviews = positive_reviews.findAll('review_text')\n",
    "\n",
    "negative_reviews = BeautifulSoup(open('electronics/negative.review').read())\n",
    "negative_reviews = negative_reviews.findAll('review_text')"
   ]
  },
  {
   "cell_type": "code",
   "execution_count": 47,
   "metadata": {},
   "outputs": [
    {
     "data": {
      "text/plain": [
       "bs4.element.ResultSet"
      ]
     },
     "execution_count": 47,
     "metadata": {},
     "output_type": "execute_result"
    }
   ],
   "source": [
    "type(positive_reviews)"
   ]
  },
  {
   "cell_type": "code",
   "execution_count": 48,
   "metadata": {},
   "outputs": [
    {
     "data": {
      "text/plain": [
       "[<review_text>\n",
       " I purchased this unit due to frequent blackouts in my area and 2 power supplies going bad.  It will run my cable modem, router, PC, and LCD monitor for 5 minutes.  This is more than enough time to save work and shut down.   Equally important, I know that my electronics are receiving clean power.\n",
       " \n",
       " I feel that this investment is minor compared to the loss of valuable data or the failure of equipment due to a power spike or an irregular power supply.\n",
       " \n",
       " As always, Amazon had it to me in &lt;2 business days\n",
       " </review_text>, <review_text>\n",
       " I ordered 3 APC Back-UPS ES 500s on the recommendation of an employee of mine who used to work at APC. I've had them for about a month now without any problems. They've functioned properly through a few unexpected power interruptions. I'll gladly order more if the need arises.\n",
       " \n",
       " Pros:\n",
       "  - Large plug spacing, good for power adapters\n",
       "  - Simple design\n",
       "  - Long cord\n",
       " \n",
       " Cons:\n",
       "  - No line conditioning (usually an expensive option\n",
       " </review_text>, <review_text>\n",
       " Wish the unit had a separate online/offline light.  When power to the unit is missing, the single red light turns off only when the warning sounds.  The warning sound is like a lot of sounds you hear in the house so it isn't always easy to tell what is happening\n",
       " </review_text>, <review_text>\n",
       " Cheaper than thick CD cases and less prone to breakage, these \"slim\" cases by Memorex protect your CDs. Most buyers will get them  for use in CD or DVD burning, and these are an affordable choice from a quality company for that purpose.\n",
       " \n",
       " You may want to consider larger cases depending on your tastes, but otherwise these will probably satisfy your needs\n",
       " </review_text>, <review_text>\n",
       " Hi\n",
       " \n",
       " I brought 256 MB Kingston SD card from Amazon.com recently. According to my openion Amazon is one of the best online shopping market, they deliver the products intime and the items i brought so far are working very well. 256 MB Kingston SD card working very good with out giving any problem. \n",
       " One can always go to Amazon for online shopping.\n",
       " bye\n",
       " kira\n",
       " </review_text>]"
      ]
     },
     "execution_count": 48,
     "metadata": {},
     "output_type": "execute_result"
    }
   ],
   "source": [
    "positive_reviews[:5]"
   ]
  },
  {
   "cell_type": "code",
   "execution_count": 49,
   "metadata": {},
   "outputs": [
    {
     "data": {
      "text/plain": [
       "[<review_text>\n",
       " cons\n",
       " tips extremely easy on carpet and if you have a lot of cds stacked at the top\n",
       " \n",
       " poorly designed, it is a vertical cd rack that doesnt have individual slots for cds, so if you want a cd from the bottom of a stack you have basically pull the whole stack to get to it\n",
       " \n",
       " putting it together was a pain, the one i bought i had to break a piece of metal just to fit it in its guide holes.\n",
       " \n",
       " again..poorly designed... doesnt even fit cds that well, there are gaps, and the cd casses are loose fitting\n",
       " \n",
       " pros\n",
       " ..........\n",
       " i guess it can hold a lot of cds....\n",
       " </review_text>, <review_text>\n",
       " It's a nice look, but it tips over very easily. It is not steady on a rug surface dispite what the picture on the box shows. My advice is if you need a CD rack that holds a lot of CD's? Save your money and invest in something nicer and more sturdy\n",
       " </review_text>, <review_text>\n",
       " I have bought and returned three of these units now. Each one has been defective, and finally I just gave up on returning the system. The DVD player constantly gives \"Bad Disc\" errors and skips if there is even the slightest smudge on a disc. The sound quality is very nice for the price, but since the player doesn't work, it's essentially useless. This is a complete rip-off at any price point\n",
       " </review_text>, <review_text>\n",
       " I knew these were inexpensive CD cases, but I can't even open one without it breaking into two pieces..\n",
       " </review_text>, <review_text>\n",
       " I used a 25 pack of these doing DVD backups, and the last 5 or so failed. I thought it was my software, so I got new software. Guess what? My first disc out of the new package of 25 that I bought failed, too.  It's not my burner (as another reviewer suggested, implying that people should learn to read), as it's brand new and doesn't require the firmware upgrade they mention. They just suck and have a high failure rate.  So the consensus seems to be that TDK or Sony are best. I'm buying some now and save myself the frustration\n",
       " </review_text>]"
      ]
     },
     "execution_count": 49,
     "metadata": {},
     "output_type": "execute_result"
    }
   ],
   "source": [
    "negative_reviews[:5]"
   ]
  },
  {
   "cell_type": "code",
   "execution_count": 50,
   "metadata": {},
   "outputs": [
    {
     "data": {
      "text/plain": [
       "1000"
      ]
     },
     "execution_count": 50,
     "metadata": {},
     "output_type": "execute_result"
    }
   ],
   "source": [
    "len(positive_reviews)"
   ]
  },
  {
   "cell_type": "code",
   "execution_count": 51,
   "metadata": {},
   "outputs": [
    {
     "data": {
      "text/plain": [
       "1000"
      ]
     },
     "execution_count": 51,
     "metadata": {},
     "output_type": "execute_result"
    }
   ],
   "source": [
    "len(negative_reviews)"
   ]
  },
  {
   "cell_type": "code",
   "execution_count": 53,
   "metadata": {},
   "outputs": [],
   "source": [
    "# # positive reviews are more than negative reviews\n",
    "# # take a random sample from positive reviews to keep \n",
    "# # the postitive / negative reviews balanced \n",
    "# np.random.shuffle(positive_reviews)\n",
    "# positive_reviews = positive_reviews[: len(negative_reviews)]\n",
    "\n",
    "\n",
    "# # # we can also oversample the negative reviews\n",
    "# # diff = len(positive_reviews) - len(negative_reviews)\n",
    "# # idxs = np.random.choice(len(negative_reviews), size=diff)\n",
    "# # extra = [negative_reviews[i] for i in idxs]\n",
    "# # negative_reviews += extra"
   ]
  },
  {
   "cell_type": "code",
   "execution_count": 54,
   "metadata": {},
   "outputs": [],
   "source": [
    "# customized tokenizers to remove short words, turn words into lower cases, remove stop words ... \n",
    "def custom_tokenizer(s):\n",
    "    # lower case \n",
    "    s = s.lower()\n",
    "    # split into words \n",
    "    tokens = nltk.tokenize.word_tokenize(s)\n",
    "    # remove short words such as it, am ... \n",
    "    tokens = [word for word in tokens if len(word) > 2]\n",
    "    # convert words into base form: cats --> cat \n",
    "    tokens = [wordnet_lemmatizer.lemmatize(word) for word in tokens]\n",
    "    # remove short words \n",
    "    tokens = [word for word in tokens if word not in stopwords]\n",
    "    return tokens "
   ]
  },
  {
   "cell_type": "code",
   "execution_count": 67,
   "metadata": {},
   "outputs": [],
   "source": [
    "# create word_to_index map to record the index of each word in a vocabulary \n",
    "word_idx_map = {}\n",
    "positive_tokenized = []\n",
    "negative_tokenized = []\n",
    "orig_reviews = []\n",
    "\n",
    "def update_map(reviews, review_list, cur_idx):\n",
    "    for review in reviews:\n",
    "        orig_reviews.append(review.text)\n",
    "        tokens = custom_tokenizer(review.text)\n",
    "        review_list.append(tokens)\n",
    "        for token in tokens:\n",
    "            if token not in word_idx_map:\n",
    "                word_idx_map[token] = cur_idx\n",
    "                cur_idx += 1 \n",
    "    return cur_idx\n",
    "\n",
    "    \n",
    "    "
   ]
  },
  {
   "cell_type": "code",
   "execution_count": 60,
   "metadata": {},
   "outputs": [],
   "source": [
    "# https://stackoverflow.com/questions/38916452/nltk-download-ssl-certificate-verify-failed\n",
    "import ssl\n",
    "\n",
    "try:\n",
    "    _create_unverified_https_context = ssl._create_unverified_context\n",
    "except AttributeError:\n",
    "    pass\n",
    "else:\n",
    "    ssl._create_default_https_context = _create_unverified_https_context\n",
    "\n",
    "# nltk.download()\n",
    "nltk.download('punkt')"
   ]
  },
  {
   "cell_type": "code",
   "execution_count": 68,
   "metadata": {},
   "outputs": [
    {
     "data": {
      "text/plain": [
       "7556"
      ]
     },
     "execution_count": 68,
     "metadata": {},
     "output_type": "execute_result"
    }
   ],
   "source": [
    "# positive reviews \n",
    "update_map(positive_reviews, positive_tokenized, cur_idx = 0)\n"
   ]
  },
  {
   "cell_type": "code",
   "execution_count": 70,
   "metadata": {},
   "outputs": [
    {
     "name": "stdout",
     "output_type": "stream",
     "text": [
      "Vocabulary size:  11082\n"
     ]
    }
   ],
   "source": [
    "# negative reviews\n",
    "update_map(negative_reviews, negative_tokenized, cur_idx = 7556)\n",
    "\n",
    "print('Vocabulary size: ' ,len(word_idx_map))\n"
   ]
  },
  {
   "cell_type": "code",
   "execution_count": 71,
   "metadata": {},
   "outputs": [],
   "source": [
    "# convert tokens of each review into vector and add labels to the last col of the vector \n",
    "def tokens_to_vector(tokens, label):\n",
    "    # vocabulary size + 1 for label \n",
    "    x = np.zeros(len(word_idx_map) + 1)\n",
    "    for token in tokens:\n",
    "        i = word_idx_map[token]\n",
    "        x[i] += 1 \n",
    "    # normalize \n",
    "    x = x / x.sum()\n",
    "    x[-1] = label \n",
    "    return x "
   ]
  },
  {
   "cell_type": "code",
   "execution_count": 81,
   "metadata": {},
   "outputs": [
    {
     "name": "stdout",
     "output_type": "stream",
     "text": [
      "Number of reviews:  2000\n"
     ]
    }
   ],
   "source": [
    "# total number of reviews \n",
    "N = len(positive_tokenized) + len(negative_tokenized)\n",
    "print('Number of reviews: ', N)\n",
    "\n",
    "# data have N rows and len(word_idx_map) + 1 cols for features and label \n",
    "data = np.zeros((N, len(word_idx_map) + 1))\n",
    "\n",
    "for i, tokens in enumerate(positive_tokenized):\n",
    "    data[i, :] = tokens_to_vector(tokens, 1)\n",
    "\n",
    "for i, tokens in enumerate(negative_tokenized):\n",
    "    data[i + len(positive_tokenized), :] = tokens_to_vector(tokens, 0)"
   ]
  },
  {
   "cell_type": "code",
   "execution_count": 82,
   "metadata": {},
   "outputs": [],
   "source": [
    "# create train and test set from data \n",
    "\n",
    "# shuffle \n",
    "orig_reviews, data = shuffle(orig_reviews, data)\n",
    "\n",
    "X, Y = data[:, :-1], data[:, -1]\n",
    "\n",
    "X_train, Y_train, X_test, Y_test = X[:-100, ], Y[:-100, ], X[-100:, ], Y[-100:, ]\n"
   ]
  },
  {
   "cell_type": "code",
   "execution_count": 86,
   "metadata": {},
   "outputs": [
    {
     "name": "stderr",
     "output_type": "stream",
     "text": [
      "/home/qshan/.local/lib/python3.6/site-packages/sklearn/linear_model/logistic.py:433: FutureWarning: Default solver will be changed to 'lbfgs' in 0.22. Specify a solver to silence this warning.\n",
      "  FutureWarning)\n"
     ]
    },
    {
     "name": "stdout",
     "output_type": "stream",
     "text": [
      "Train accuracy:  0.7857894736842105\n",
      "Test accuracy:  0.72\n"
     ]
    }
   ],
   "source": [
    "# fit model \n",
    "model = LogisticRegression()\n",
    "model.fit(X_train, Y_train)\n",
    "print('Train accuracy: ', model.score(X_train, Y_train))\n",
    "print('Test accuracy: ', model.score(X_test, Y_test))\n"
   ]
  },
  {
   "cell_type": "code",
   "execution_count": 87,
   "metadata": {},
   "outputs": [
    {
     "name": "stdout",
     "output_type": "stream",
     "text": [
      "wa -1.7308697031787024\n",
      "you 1.0171635324366886\n",
      "n't -1.959793012109964\n",
      "ha 0.7205408328370105\n",
      "little 0.9454283441895711\n",
      "buy -0.8422313078150562\n",
      "cable 0.7817057724738325\n",
      "doe -1.2115400249929358\n",
      "support -0.8524665413863667\n",
      "quality 1.4807231263729081\n",
      "lot 0.7365005930568032\n",
      "price 2.821363877407886\n",
      "'ve 0.7474735606440409\n",
      "love 1.1060511210359893\n",
      "bad -0.7108218967956866\n",
      "money -0.9491708761120471\n",
      "then -1.007293200971402\n",
      "speaker 0.8944060445521356\n",
      "highly 0.9335654403919926\n",
      "recommend 0.7448579992011756\n",
      "perfect 0.9498494605783255\n",
      "tried -0.7509026086833667\n",
      "sound 0.9399908938442343\n",
      "time -0.8654097653797324\n",
      "poor -0.7863136125014152\n",
      "easy 1.7458418002204057\n",
      "excellent 1.2953946006339072\n",
      "returned -0.8145441968758805\n",
      "week -0.7236048377363157\n",
      "memory 0.972496757426921\n",
      "month -0.8088324730311598\n",
      "item -0.9901746996502715\n",
      "return -1.2216844154486044\n",
      "fast 0.8966566890759341\n",
      "waste -0.9947943115242666\n"
     ]
    }
   ],
   "source": [
    "# observe the weights of each word \n",
    "threshold = 0.7 \n",
    "for word, index in word_idx_map.items():\n",
    "    weight = model.coef_[0][index]\n",
    "    if abs(weight) > threshold:\n",
    "        print(word, weight)\n",
    "        \n",
    "        "
   ]
  },
  {
   "cell_type": "code",
   "execution_count": 88,
   "metadata": {},
   "outputs": [],
   "source": [
    "# have a look at the misclassified examples \n",
    "# predictions on all data \n",
    "preds = model.predict(X)\n",
    "probabilities = model.predict_proba(X)[:, 1] # p(y = 1|x)\n"
   ]
  },
  {
   "cell_type": "code",
   "execution_count": 111,
   "metadata": {},
   "outputs": [],
   "source": [
    "actual_positive = []\n",
    "actual_negative = []\n",
    "for i in range(N):\n",
    "    prob = probabilities[i]\n",
    "    y = Y[i]\n",
    "    if y == 1 and prob < 0.5:\n",
    "        actual_positive.append(orig_reviews[i])\n",
    "    elif y == 0 and prob > 0.5:\n",
    "        actual_negative.append(orig_reviews[i])"
   ]
  },
  {
   "cell_type": "code",
   "execution_count": 113,
   "metadata": {},
   "outputs": [
    {
     "data": {
      "text/plain": [
       "['\\nA simple, cheap investment.  This CF reader actually does what it should, i.e. transfer info from compact flash to the computer.  Previous Kodak 1.0 multi-card reader had issues after a few weeks, and stopped working after 2 months.  This one is much faster and is still working.  Ahhhhh\\n',\n",
       " \"\\nNo problems so far; does its job.(if you are setting up a wireless network, get windows XP. 1 click and you're set up.\\n\"]"
      ]
     },
     "execution_count": 113,
     "metadata": {},
     "output_type": "execute_result"
    }
   ],
   "source": [
    "actual_positive[:2]"
   ]
  },
  {
   "cell_type": "code",
   "execution_count": 114,
   "metadata": {},
   "outputs": [
    {
     "data": {
      "text/plain": [
       "[\"\\n2gb of flash memory will not be destroyed at high altitude or dropped short of shattering the memory stick.  A 30gb hard drive as in the iPod 30g (that my son has) is subject to air pressure, shock and temperature domain that a flash memory device will not be subject to.  Because the hard drive spins to lift the heads above the disk, moisture from condensation will cause the head to crash if, brought in from a cold car and turned on.  I do not know about the iPod but some larger devices have dew point detector that will not spin up unless the air in the device is at safe temp.\\n\\nTHAT's WHY..\\n\",\n",
       " '\\nI purchased the Notebook Cooler approximately one month ago, after reading online testimonials of laptops becoming damaged from overheating. Thankfully, the same time I read that, Circuit City was having a sale on this item for only $15, after mail-in rebate. Fast forward one month and my opinion of the Cooler so far: not bad... \\n\\nMy laptop is noticeably cooler to the touch now, and the internal fan rarely comes on. The Notebook Cooler itself is smartly designed, with an aluminum topping and two fans that draw away heat. I\\'ll admit, the USB connector cable is a bit flimsy, and I can see why some folks have complained. For those users who travel frequently (or anyone who foresees plugging and unplugging the cable often), you may want to exercise extra caution. The blue LED light that some reviewer claims is too \"strong\" is a minor quibble--if you really wanted to, you could always tape over the light and problem solved. As for the fan noise, I would say the low setting is comparable to \"white noise,\" which you don\\'t really notice until you purposely try to listen for it! The high setting, on the other hand, is a bit loud, and I can see people having to turn up the volume on their speakers or TV to compensate. Usually, though, I only use the high setting when it\\'s really hot in the room, or if I\\'m running intensive programs like Photoshop or some video game. \\n\\nOverall, I\\'d say I\\'m very satisfied with this product. (Though, I am somewhat disappointed that Antec needs 3 months to process my $15 rebate check.) \\n']"
      ]
     },
     "execution_count": 114,
     "metadata": {},
     "output_type": "execute_result"
    }
   ],
   "source": [
    "actual_negative[:2]"
   ]
  },
  {
   "cell_type": "markdown",
   "metadata": {},
   "source": [
    "### Conclusions\n",
    "\n",
    "* One can try different classifiers, different features to see if the classifier will perform better.\n",
    "\n",
    "* One can also try to use regression instead of classification in this sentiment analysis as a continuous number does make sense when telling about the sentiment. \n",
    "\n",
    "* One can also try to do classification job with more categories instead of just postive and negative classes."
   ]
  }
 ],
 "metadata": {
  "kernelspec": {
   "display_name": "Python 3",
   "language": "python",
   "name": "python3"
  },
  "language_info": {
   "codemirror_mode": {
    "name": "ipython",
    "version": 3
   },
   "file_extension": ".py",
   "mimetype": "text/x-python",
   "name": "python",
   "nbconvert_exporter": "python",
   "pygments_lexer": "ipython3",
   "version": "3.6.8"
  }
 },
 "nbformat": 4,
 "nbformat_minor": 2
}
